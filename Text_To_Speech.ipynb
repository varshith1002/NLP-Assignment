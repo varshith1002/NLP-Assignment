{
 "cells": [
  {
   "cell_type": "code",
   "execution_count": 1,
   "id": "0a96241a-60fe-4ce4-84d0-08baf9dfad68",
   "metadata": {},
   "outputs": [
    {
     "name": "stdout",
     "output_type": "stream",
     "text": [
      "Requirement already satisfied: gTTS in c:\\users\\user\\anaconda3\\lib\\site-packages (2.5.4)\n",
      "Requirement already satisfied: requests<3,>=2.27 in c:\\users\\user\\anaconda3\\lib\\site-packages (from gTTS) (2.32.3)\n",
      "Requirement already satisfied: click<8.2,>=7.1 in c:\\users\\user\\anaconda3\\lib\\site-packages (from gTTS) (8.1.7)\n",
      "Requirement already satisfied: colorama in c:\\users\\user\\anaconda3\\lib\\site-packages (from click<8.2,>=7.1->gTTS) (0.4.6)\n",
      "Requirement already satisfied: charset-normalizer<4,>=2 in c:\\users\\user\\anaconda3\\lib\\site-packages (from requests<3,>=2.27->gTTS) (3.3.2)\n",
      "Requirement already satisfied: idna<4,>=2.5 in c:\\users\\user\\anaconda3\\lib\\site-packages (from requests<3,>=2.27->gTTS) (3.7)\n",
      "Requirement already satisfied: urllib3<3,>=1.21.1 in c:\\users\\user\\anaconda3\\lib\\site-packages (from requests<3,>=2.27->gTTS) (2.2.3)\n",
      "Requirement already satisfied: certifi>=2017.4.17 in c:\\users\\user\\anaconda3\\lib\\site-packages (from requests<3,>=2.27->gTTS) (2024.12.14)\n"
     ]
    }
   ],
   "source": [
    "!pip install gTTS"
   ]
  },
  {
   "cell_type": "code",
   "execution_count": 3,
   "id": "39de4a80-30c6-4720-8a2f-191b613194ad",
   "metadata": {},
   "outputs": [],
   "source": [
    "from gtts import gTTS"
   ]
  },
  {
   "cell_type": "code",
   "execution_count": 5,
   "id": "5babbc85-0290-4035-86bc-831014d8be35",
   "metadata": {},
   "outputs": [],
   "source": [
    "#chooses the language, English('en')\n",
    "convert = gTTS(text='I like this NLP. How about dude!', lang=\"en\", slow=False)\n",
    "# Saving the converted audio in a mp3 file named\n",
    "convert.save(\"audio.mp3\")"
   ]
  },
  {
   "cell_type": "code",
   "execution_count": 7,
   "id": "f5312774-5e50-4c7f-a722-c1de2f37424b",
   "metadata": {},
   "outputs": [
    {
     "name": "stdout",
     "output_type": "stream",
     "text": [
      "Requirement already satisfied: pyttsx3 in c:\\users\\user\\anaconda3\\lib\\site-packages (2.98)\n",
      "Requirement already satisfied: comtypes in c:\\users\\user\\anaconda3\\lib\\site-packages (from pyttsx3) (1.4.10)\n",
      "Requirement already satisfied: pypiwin32 in c:\\users\\user\\anaconda3\\lib\\site-packages (from pyttsx3) (223)\n",
      "Requirement already satisfied: pywin32 in c:\\users\\user\\anaconda3\\lib\\site-packages (from pyttsx3) (305.1)\n"
     ]
    }
   ],
   "source": [
    "!pip3 install pyttsx3"
   ]
  },
  {
   "cell_type": "code",
   "execution_count": 9,
   "id": "c94b40e9-c452-4d3a-bfe8-e88b5e84326b",
   "metadata": {},
   "outputs": [],
   "source": [
    "#pip3 install pyttsx3\n",
    "#apt-get install alsa-utils\n",
    "import pyttsx3, time \n",
    "engine = pyttsx3.init() \n",
    "engine.say(\"Hi, I am text to speach\") \n",
    "engine.runAndWait()"
   ]
  },
  {
   "cell_type": "code",
   "execution_count": 11,
   "id": "27e4779d-9603-4205-9483-f07955d3313c",
   "metadata": {},
   "outputs": [],
   "source": [
    "text=['This is introduction to NLP','It is likely to be useful, to people ',\\\n",
    "\n",
    "      'Machine learning is the new electrcity','There would be less hype around AI and more action going forward',\\\n",
    "\n",
    "      'python is the best tool!','R is good langauage','I like this book',\\\n",
    "\n",
    "      'I want more books like this']"
   ]
  },
  {
   "cell_type": "code",
   "execution_count": 13,
   "id": "5b1b4e62-3ebb-4238-8bd7-03b697bfe558",
   "metadata": {},
   "outputs": [],
   "source": [
    "engine = pyttsx3.init() \n",
    "engine.say(text) \n",
    "engine.runAndWait()"
   ]
  },
  {
   "cell_type": "code",
   "execution_count": 15,
   "id": "9c81e9b8-73d9-4727-a732-82396fddd5ec",
   "metadata": {},
   "outputs": [
    {
     "name": "stdout",
     "output_type": "stream",
     "text": [
      "200\n",
      "1.0\n"
     ]
    }
   ],
   "source": [
    "import pyttsx3\n",
    "engine = pyttsx3.init() # object creation\n",
    "\"\"\" RATE\"\"\"\n",
    "rate = engine.getProperty('rate')   # getting details of current speaking rate\n",
    "print (rate)                        #printing current voice rate\n",
    "engine.setProperty('rate', 150)     # setting up new voice rate\n",
    "\"\"\"VOLUME\"\"\"\n",
    "volume = engine.getProperty('volume')   #getting to know current volume level (min=0 and max=1)\n",
    "print (volume)                          #printing current volume leve\n",
    "engine.setProperty('volume',1.0)    # setting up volume level  between 0 and 1\n",
    "\"\"\"VOICE\"\"\"\n",
    "voices = engine.getProperty('voices')       #getting details of current voice\n",
    "#engine.setProperty('voice', voices[0].id)  #changing index, changes voices. o for male\n",
    "engine.setProperty('voice', voices[1].id)   #changing index, changes voices. 1 for female\n",
    "engine.say(\"Hello World!\")\n",
    "engine.say('My current speaking rate is ' + str(rate))\n",
    "engine.say('My current speaking volume is ' + str(volume))\n",
    "engine.runAndWait()\n",
    "engine.stop()"
   ]
  },
  {
   "cell_type": "code",
   "execution_count": 17,
   "id": "3a051adc-39d3-4acc-b708-882d14dc2ea9",
   "metadata": {},
   "outputs": [
    {
     "name": "stdout",
     "output_type": "stream",
     "text": [
      "Requirement already satisfied: goslate in c:\\users\\user\\anaconda3\\lib\\site-packages (1.5.4)\n",
      "Requirement already satisfied: futures in c:\\users\\user\\anaconda3\\lib\\site-packages (from goslate) (3.0.5)\n"
     ]
    }
   ],
   "source": [
    "!pip install goslate"
   ]
  },
  {
   "cell_type": "code",
   "execution_count": 19,
   "id": "6cac881c-970e-461b-8388-3ccf889d6402",
   "metadata": {},
   "outputs": [],
   "source": [
    "text = \"Bonjour le monde\""
   ]
  },
  {
   "cell_type": "code",
   "execution_count": 21,
   "id": "ea6f2054-1165-4a6c-bd01-f03bcdc425fd",
   "metadata": {},
   "outputs": [],
   "source": [
    "import goslate"
   ]
  },
  {
   "cell_type": "code",
   "execution_count": 25,
   "id": "fce7c82f-b019-4a04-b10e-e1c9d0e47390",
   "metadata": {},
   "outputs": [
    {
     "name": "stdout",
     "output_type": "stream",
     "text": [
      "Requirement already satisfied: translate in c:\\users\\user\\anaconda3\\lib\\site-packages (3.6.1)\n",
      "Requirement already satisfied: click in c:\\users\\user\\anaconda3\\lib\\site-packages (from translate) (8.1.7)\n",
      "Requirement already satisfied: lxml in c:\\users\\user\\anaconda3\\lib\\site-packages (from translate) (5.3.1)\n",
      "Requirement already satisfied: requests in c:\\users\\user\\anaconda3\\lib\\site-packages (from translate) (2.32.3)\n",
      "Requirement already satisfied: libretranslatepy==2.1.1 in c:\\users\\user\\anaconda3\\lib\\site-packages (from translate) (2.1.1)\n",
      "Requirement already satisfied: colorama in c:\\users\\user\\anaconda3\\lib\\site-packages (from click->translate) (0.4.6)\n",
      "Requirement already satisfied: charset-normalizer<4,>=2 in c:\\users\\user\\anaconda3\\lib\\site-packages (from requests->translate) (3.3.2)\n",
      "Requirement already satisfied: idna<4,>=2.5 in c:\\users\\user\\anaconda3\\lib\\site-packages (from requests->translate) (3.7)\n",
      "Requirement already satisfied: urllib3<3,>=1.21.1 in c:\\users\\user\\anaconda3\\lib\\site-packages (from requests->translate) (2.2.3)\n",
      "Requirement already satisfied: certifi>=2017.4.17 in c:\\users\\user\\anaconda3\\lib\\site-packages (from requests->translate) (2024.12.14)\n"
     ]
    }
   ],
   "source": [
    "!pip install translate"
   ]
  },
  {
   "cell_type": "code",
   "execution_count": 27,
   "id": "5d5ffc93-a383-4352-b956-0fc8b2f17a7a",
   "metadata": {},
   "outputs": [
    {
     "data": {
      "text/plain": [
       "'ఎలా ఉనారు ?'"
      ]
     },
     "execution_count": 27,
     "metadata": {},
     "output_type": "execute_result"
    }
   ],
   "source": [
    "# # traslating text to telugu\n",
    "from translate import Translator\n",
    "translator= Translator(to_lang=\"te\")\n",
    "translation = translator.translate(\"How are you?\")\n",
    "translation"
   ]
  },
  {
   "cell_type": "code",
   "execution_count": 33,
   "id": "2925f6f4-ac09-4268-91bb-fca788192e15",
   "metadata": {},
   "outputs": [
    {
     "data": {
      "text/plain": [
       "'كيف حالك؟'"
      ]
     },
     "execution_count": 33,
     "metadata": {},
     "output_type": "execute_result"
    }
   ],
   "source": [
    "# # traslating text to arabic\n",
    "from translate import Translator\n",
    "translator= Translator(to_lang=\"ar\")\n",
    "translation = translator.translate(\"How are you?\")\n",
    "translation"
   ]
  },
  {
   "cell_type": "code",
   "execution_count": 35,
   "id": "c31de0ba-73e3-47eb-81ae-b591fa2124f0",
   "metadata": {},
   "outputs": [
    {
     "data": {
      "text/plain": [
       "'O tsogile jang?'"
      ]
     },
     "execution_count": 35,
     "metadata": {},
     "output_type": "execute_result"
    }
   ],
   "source": [
    "# # traslating text to tamil\n",
    "from translate import Translator\n",
    "translator= Translator(to_lang=\"tn\")\n",
    "translation = translator.translate(\"How are you?\")\n",
    "translation"
   ]
  },
  {
   "cell_type": "code",
   "execution_count": 37,
   "id": "6b39194c-ae8d-4c7f-9157-3e95d646ce79",
   "metadata": {},
   "outputs": [
    {
     "data": {
      "text/plain": [
       "'कशी आहेस?'"
      ]
     },
     "execution_count": 37,
     "metadata": {},
     "output_type": "execute_result"
    }
   ],
   "source": [
    "# # traslating text to marathi\n",
    "from translate import Translator\n",
    "translator= Translator(to_lang=\"mr\")\n",
    "translation = translator.translate(\"How are you?\")\n",
    "translation"
   ]
  },
  {
   "cell_type": "code",
   "execution_count": null,
   "id": "1cb91cd2-7952-45ae-9924-b4596b1ecab8",
   "metadata": {},
   "outputs": [],
   "source": []
  }
 ],
 "metadata": {
  "kernelspec": {
   "display_name": "Python [conda env:base] *",
   "language": "python",
   "name": "conda-base-py"
  },
  "language_info": {
   "codemirror_mode": {
    "name": "ipython",
    "version": 3
   },
   "file_extension": ".py",
   "mimetype": "text/x-python",
   "name": "python",
   "nbconvert_exporter": "python",
   "pygments_lexer": "ipython3",
   "version": "3.12.7"
  }
 },
 "nbformat": 4,
 "nbformat_minor": 5
}
