{
 "cells": [
  {
   "cell_type": "code",
   "execution_count": 2,
   "id": "1c1053c4-25f5-449f-bb10-99fafae7cb52",
   "metadata": {},
   "outputs": [
    {
     "name": "stdout",
     "output_type": "stream",
     "text": [
      "AnB =  {1, 2}\n",
      "AuB =  {1, 2, 3, 4, 5, 6, 8, 9}\n",
      "J(A,B) =  0.25\n"
     ]
    }
   ],
   "source": [
    "A = {1, 2, 3, 4, 6}\n",
    "B = {1, 2, 5, 8, 9}\n",
    "c = A.intersection(B)\n",
    "D = A.union(B)\n",
    "print('AnB = ', c)\n",
    "print('AuB = ', D)\n",
    "print('J(A,B) = ', float(len(c)) / float(len(D)))"
   ]
  },
  {
   "cell_type": "code",
   "execution_count": 6,
   "id": "7bcf0eab-1015-44cc-a0ad-06e55a54a760",
   "metadata": {},
   "outputs": [
    {
     "name": "stdout",
     "output_type": "stream",
     "text": [
      "Jaccard Similarity: 0.375\n"
     ]
    }
   ],
   "source": [
    "def jaccard_similarity(set1, set2):\n",
    "    intersection = len(set1.intersection(set2))\n",
    "    union = len(set1.union(set2))     \n",
    "    return intersection / union\n",
    "set_a = {\"Language\", \"for\", \"Computer\", \"NLP\", \"Science\"}\n",
    "set_b = {\"NLP\", \"for\", \"Language\", \"Data\", 'ML', \"AI\"}\n",
    "similarity = jaccard_similarity(set_a, set_b)\n",
    "print(\"Jaccard Similarity:\", similarity)"
   ]
  },
  {
   "cell_type": "code",
   "execution_count": 28,
   "id": "1eee9cad-e520-468b-9be1-801a9a8eb062",
   "metadata": {},
   "outputs": [
    {
     "name": "stdout",
     "output_type": "stream",
     "text": [
      "Most relevant response: To track your order, you can visit the 'Order Tracking' page and enter your order number.\n"
     ]
    }
   ],
   "source": [
    "import numpy as np\n",
    "from sklearn.feature_extraction.text import TfidfVectorizer\n",
    "from sklearn.metrics.pairwise import cosine_similarity\n",
    "responses = [\n",
    "    \"You can return an item within 7 days of purchase.\",\n",
    "    \"Our return policy allows you to return items that are unopened and in their original condition.\",\n",
    "    \"We offer free shipping on orders over $50.\",\n",
    "    \"To track your order, you can visit the 'Order Tracking' page and enter your order number.\",\n",
    "    \"Our customer support team is available from 9 AM to 6 PM, Monday through Friday.\"\n",
    "]\n",
    "user_input = \"How can I track my order?\"\n",
    "vectorizer = TfidfVectorizer(stop_words='english')  \n",
    "all_texts = responses + [user_input]  \n",
    "tfidf_matrix = vectorizer.fit_transform(all_texts)\n",
    "user_vector = tfidf_matrix[-1] \n",
    "response_vectors = tfidf_matrix[:-1]\n",
    "cosine_similarities = cosine_similarity(user_vector, response_vectors)\n",
    "most_similar_idx = np.argmax(cosine_similarities) \n",
    "print(f\"Most relevant response: {responses[most_similar_idx]}\")"
   ]
  },
  {
   "cell_type": "code",
   "execution_count": 2,
   "id": "f8e2b408-fa66-42b3-84df-74bba89bf971",
   "metadata": {},
   "outputs": [],
   "source": [
    "import io\n",
    "import random\n",
    "import string # to process standard python strings\n",
    "import warnings\n",
    "warnings.filterwarnings('ignore')\n",
    "import numpy as np\n",
    "from sklearn.feature_extraction.text import TfidfVectorizer # convert a collection of raw documents to a matrix of TF-IDF features\n",
    "from sklearn.metrics.pairwise import cosine_similarity\n",
    "from nltk.stem import WordNetLemmatizer"
   ]
  },
  {
   "cell_type": "code",
   "execution_count": 9,
   "id": "6ef8a1e1-523d-44ed-8b67-bd0b27b20133",
   "metadata": {},
   "outputs": [],
   "source": [
    "#!pip install nltk\n",
    "import nltk"
   ]
  },
  {
   "cell_type": "code",
   "execution_count": 11,
   "id": "580598d5-aaca-4520-a33f-beb70339d0f7",
   "metadata": {},
   "outputs": [
    {
     "name": "stderr",
     "output_type": "stream",
     "text": [
      "[nltk_data] Error downloading 'wordnet' from\n",
      "[nltk_data]     <https://raw.githubusercontent.com/nltk/nltk_data/gh-\n",
      "[nltk_data]     pages/packages/corpora/wordnet.zip>:   <urlopen error\n",
      "[nltk_data]     [Errno 11001] getaddrinfo failed>\n",
      "[nltk_data] Downloading package punkt to\n",
      "[nltk_data]     C:\\Users\\user\\AppData\\Roaming\\nltk_data...\n",
      "[nltk_data] Error downloading 'punkt' from\n",
      "[nltk_data]     <https://raw.githubusercontent.com/nltk/nltk_data/gh-\n",
      "[nltk_data]     pages/packages/tokenizers/punkt.zip>:   <urlopen error\n",
      "[nltk_data]     [Errno 11001] getaddrinfo failed>\n",
      "[nltk_data] Downloading package wordnet to\n",
      "[nltk_data]     C:\\Users\\user\\AppData\\Roaming\\nltk_data...\n",
      "[nltk_data] Error downloading 'wordnet' from\n",
      "[nltk_data]     <https://raw.githubusercontent.com/nltk/nltk_data/gh-\n",
      "[nltk_data]     pages/packages/corpora/wordnet.zip>:   <urlopen error\n",
      "[nltk_data]     [Errno 11001] getaddrinfo failed>\n"
     ]
    },
    {
     "data": {
      "text/plain": [
       "False"
      ]
     },
     "execution_count": 11,
     "metadata": {},
     "output_type": "execute_result"
    }
   ],
   "source": [
    "nltk.download('popular', quiet=True) # for downloading packages\n",
    "nltk.download('punkt') # first-time use only\n",
    "nltk.download('wordnet') # first-time use only"
   ]
  },
  {
   "cell_type": "code",
   "execution_count": 18,
   "id": "cfdd1596-667b-47d8-9f90-404fa1751e36",
   "metadata": {},
   "outputs": [
    {
     "ename": "FileNotFoundError",
     "evalue": "[Errno 2] No such file or directory: 'input.txt'",
     "output_type": "error",
     "traceback": [
      "\u001b[1;31m---------------------------------------------------------------------------\u001b[0m",
      "\u001b[1;31mFileNotFoundError\u001b[0m                         Traceback (most recent call last)",
      "Cell \u001b[1;32mIn[18], line 1\u001b[0m\n\u001b[1;32m----> 1\u001b[0m f\u001b[38;5;241m=\u001b[39m\u001b[38;5;28mopen\u001b[39m(\u001b[38;5;124m'\u001b[39m\u001b[38;5;124minput.txt\u001b[39m\u001b[38;5;124m'\u001b[39m,\u001b[38;5;124m'\u001b[39m\u001b[38;5;124mr\u001b[39m\u001b[38;5;124m'\u001b[39m,errors \u001b[38;5;241m=\u001b[39m \u001b[38;5;124m'\u001b[39m\u001b[38;5;124mignore\u001b[39m\u001b[38;5;124m'\u001b[39m)\n\u001b[0;32m      2\u001b[0m raw \u001b[38;5;241m=\u001b[39m f\u001b[38;5;241m.\u001b[39mread()\n\u001b[0;32m      3\u001b[0m raw \u001b[38;5;241m=\u001b[39m raw\u001b[38;5;241m.\u001b[39mlower()\n",
      "File \u001b[1;32m~\\anaconda3\\Lib\\site-packages\\IPython\\core\\interactiveshell.py:324\u001b[0m, in \u001b[0;36m_modified_open\u001b[1;34m(file, *args, **kwargs)\u001b[0m\n\u001b[0;32m    317\u001b[0m \u001b[38;5;28;01mif\u001b[39;00m file \u001b[38;5;129;01min\u001b[39;00m {\u001b[38;5;241m0\u001b[39m, \u001b[38;5;241m1\u001b[39m, \u001b[38;5;241m2\u001b[39m}:\n\u001b[0;32m    318\u001b[0m     \u001b[38;5;28;01mraise\u001b[39;00m \u001b[38;5;167;01mValueError\u001b[39;00m(\n\u001b[0;32m    319\u001b[0m         \u001b[38;5;124mf\u001b[39m\u001b[38;5;124m\"\u001b[39m\u001b[38;5;124mIPython won\u001b[39m\u001b[38;5;124m'\u001b[39m\u001b[38;5;124mt let you open fd=\u001b[39m\u001b[38;5;132;01m{\u001b[39;00mfile\u001b[38;5;132;01m}\u001b[39;00m\u001b[38;5;124m by default \u001b[39m\u001b[38;5;124m\"\u001b[39m\n\u001b[0;32m    320\u001b[0m         \u001b[38;5;124m\"\u001b[39m\u001b[38;5;124mas it is likely to crash IPython. If you know what you are doing, \u001b[39m\u001b[38;5;124m\"\u001b[39m\n\u001b[0;32m    321\u001b[0m         \u001b[38;5;124m\"\u001b[39m\u001b[38;5;124myou can use builtins\u001b[39m\u001b[38;5;124m'\u001b[39m\u001b[38;5;124m open.\u001b[39m\u001b[38;5;124m\"\u001b[39m\n\u001b[0;32m    322\u001b[0m     )\n\u001b[1;32m--> 324\u001b[0m \u001b[38;5;28;01mreturn\u001b[39;00m io_open(file, \u001b[38;5;241m*\u001b[39margs, \u001b[38;5;241m*\u001b[39m\u001b[38;5;241m*\u001b[39mkwargs)\n",
      "\u001b[1;31mFileNotFoundError\u001b[0m: [Errno 2] No such file or directory: 'input.txt'"
     ]
    }
   ],
   "source": [
    "f=open('input.txt','r',errors = 'ignore')\n",
    "raw = f.read()\n",
    "raw = raw.lower()# converts to lowercase"
   ]
  },
  {
   "cell_type": "code",
   "execution_count": null,
   "id": "b250f17d-cfb7-47d9-8344-8373cda8485f",
   "metadata": {},
   "outputs": [],
   "source": [
    "f=open('input.txt','r',errors = 'ignore')\n",
    "raw = f.read()\n",
    "raw = raw.lower()# converts to lowercase"
   ]
  },
  {
   "cell_type": "code",
   "execution_count": null,
   "id": "e827bc44-ec7f-4844-ab56-4e001d83c213",
   "metadata": {},
   "outputs": [],
   "source": [
    "import nltk\n",
    "sent_tokens = nltk.sent_tokenize(raw)# converts to list of sentences \n",
    "word_tokens = nltk.word_tokenize(raw)# converts to list of words"
   ]
  },
  {
   "cell_type": "code",
   "execution_count": null,
   "id": "e48e98c7-c60f-4343-af3d-adb3a99c4989",
   "metadata": {},
   "outputs": [],
   "source": [
    "lemmer = nltk.stem.WordNetLemmatizer()\n",
    "#WordNet is a semantically-oriented dictionary of English included in NLTK.\n",
    "def LemTokens(tokens):\n",
    "    return [lemmer.lemmatize(token) for token in tokens]\n",
    "remove_punct_dict = dict((ord(punct), None) for punct in string.punctuation)\n",
    "def LemNormalize(text):\n",
    "    return LemTokens(nltk.word_tokenize(text.lower().translate(remove_punct_dict)))"
   ]
  },
  {
   "cell_type": "code",
   "execution_count": 24,
   "id": "e4d08400-2372-44db-b540-58c06d65cd05",
   "metadata": {},
   "outputs": [],
   "source": [
    "GREETING_INPUTS = (\"hello\", \"hi\", \"greetings\", \"what's up\",\"hey\",\\\n",
    "                   \"how are you?\")\n",
    "GREETING_RESPONSES = [\"hi\", \"hey\", \"hi there\", \"hello\", \\\n",
    "                      \"I am glad! You are talking to me\", \\\n",
    "                      \"I am fine! How about you?\"]\n",
    "def greeting(sentence): \n",
    "    for word in sentence.split():\n",
    "        if word.lower() in GREETING_INPUTS:\n",
    "            return random.choice(GREETING_RESPONSES)"
   ]
  },
  {
   "cell_type": "code",
   "execution_count": null,
   "id": "31ce30c8-2254-40ee-851b-6a16f3d64b26",
   "metadata": {},
   "outputs": [],
   "source": []
  }
 ],
 "metadata": {
  "kernelspec": {
   "display_name": "Python [conda env:base] *",
   "language": "python",
   "name": "conda-base-py"
  },
  "language_info": {
   "codemirror_mode": {
    "name": "ipython",
    "version": 3
   },
   "file_extension": ".py",
   "mimetype": "text/x-python",
   "name": "python",
   "nbconvert_exporter": "python",
   "pygments_lexer": "ipython3",
   "version": "3.12.7"
  }
 },
 "nbformat": 4,
 "nbformat_minor": 5
}
